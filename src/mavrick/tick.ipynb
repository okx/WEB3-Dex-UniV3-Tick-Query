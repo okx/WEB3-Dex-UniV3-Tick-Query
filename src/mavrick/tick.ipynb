{
 "cells": [
  {
   "cell_type": "code",
   "execution_count": 1,
   "metadata": {},
   "outputs": [
    {
     "data": {
      "text/plain": [
       "({'0': 138261823728,\n",
       "  '-1': 7463162598112715418867754100145796611164620634624434827815830738677402697728},\n",
       " {'1': {'0': 5, '1': 10, '2': 2, '3': 13},\n",
       "  '4': {'2': 3, '3': 14},\n",
       "  '6': {'0': 6},\n",
       "  '7': {'0': 8, '1': 16},\n",
       "  '9': {'1': 11},\n",
       "  '-9': {'1': 9},\n",
       "  '-8': {'1': 15, '2': 1},\n",
       "  '-7': {'0': 4},\n",
       "  '-3': {'3': 12},\n",
       "  '-1': {'0': 7}},\n",
       " dict_keys(['1', '4', '6', '7', '9', '-9', '-8', '-7', '-3', '-1']))"
      ]
     },
     "execution_count": 1,
     "metadata": {},
     "output_type": "execute_result"
    }
   ],
   "source": [
    "binMap = {\"0\":138261823728, \"-1\":7463162598112715418867754100145796611164620634624434827815830738677402697728}\n",
    "binPositions= {\n",
    "            '1': { '0': 5, '1': 10, '2': 2, '3': 13 },\n",
    "            '4': { '2': 3, '3': 14 },\n",
    "            '6': { '0': 6 },\n",
    "            '7': { '0': 8, '1': 16 },\n",
    "            '9': { '1': 11 },\n",
    "            '-9': { '1': 9 },\n",
    "            '-8': { '1': 15, '2': 1 },\n",
    "            '-7': { '0': 4 },\n",
    "            '-3': { '3': 12 },\n",
    "            '-1': { '0': 7 },\n",
    "            \n",
    "            \n",
    "          }\n",
    "ticks = binPositions.keys()\n",
    "binMap, binPositions,ticks"
   ]
  },
  {
   "cell_type": "code",
   "execution_count": 6,
   "metadata": {},
   "outputs": [
    {
     "name": "stdout",
     "output_type": "stream",
     "text": [
      "0b10000000110001000011000000000011110000\n",
      "1 0 5\n",
      "1 1 10\n",
      "1 2 2\n",
      "1 3 13\n",
      "4 2 3\n",
      "4 3 14\n",
      "6 0 6\n",
      "7 0 8\n",
      "7 1 16\n",
      "9 1 11\n"
     ]
    }
   ],
   "source": [
    "bin(binMap[\"0\"])\n",
    "a = binMap[\"0\"]\n",
    "print(bin(a))\n",
    "index = 0\n",
    "while (a > 0):\n",
    "    if (a & 1):\n",
    "        print(index // 4, index % 4, binPositions[str(index//4)][str(index%4)])\n",
    "    index += 1\n",
    "    a >>= 1"
   ]
  },
  {
   "cell_type": "code",
   "execution_count": 3,
   "metadata": {},
   "outputs": [
    {
     "name": "stdout",
     "output_type": "stream",
     "text": [
      "0b1000010000000000000000001011000100000000000000000000000000000000000000000000000000000000000000000000000000000000000000000000000000000000000000000000000000000000000000000000000000000000000000000000000000000000000000000000000000000000000000000000000000000\n",
      "-9 1\n",
      "-8 1\n",
      "-8 2\n",
      "-7 0\n",
      "-3 3\n",
      "-1 0\n"
     ]
    }
   ],
   "source": [
    "bin(binMap[\"-1\"])\n",
    "a = binMap[\"-1\"]\n",
    "print(bin(a))\n",
    "index = 0\n",
    "while (a > 0):\n",
    "    # print(bin(a))\n",
    "    if (a & 1):\n",
    "        print((-256 + index) // 4, index % 4)\n",
    "    index += 1\n",
    "    a >>= 1"
   ]
  },
  {
   "cell_type": "code",
   "execution_count": 8,
   "metadata": {},
   "outputs": [
    {
     "data": {
      "text/plain": [
       "13860"
      ]
     },
     "execution_count": 8,
     "metadata": {},
     "output_type": "execute_result"
    }
   ],
   "source": [
    "887272 // 256 * 4"
   ]
  },
  {
   "cell_type": "code",
   "execution_count": 1,
   "metadata": {},
   "outputs": [
    {
     "name": "stdout",
     "output_type": "stream",
     "text": [
      "0b1000101011011000101010101000100010001\n",
      "0 0\n",
      "1 0\n",
      "2 0\n",
      "3 0\n",
      "3 2\n",
      "4 0\n",
      "4 2\n",
      "5 0\n",
      "6 0\n",
      "6 1\n",
      "6 3\n",
      "7 0\n",
      "7 2\n",
      "8 0\n",
      "9 0\n"
     ]
    }
   ],
   "source": [
    "a = 0x000000000000000000000000000000000000000000000000000000115b155111\n",
    "print(bin(a))\n",
    "index = 0\n",
    "while (a > 0):\n",
    "    # print(bin(a))\n",
    "    if (a & 1):\n",
    "        print((index) // 4, index % 4)\n",
    "    index += 1\n",
    "    a >>= 1"
   ]
  }
 ],
 "metadata": {
  "kernelspec": {
   "display_name": "Python 3",
   "language": "python",
   "name": "python3"
  },
  "language_info": {
   "codemirror_mode": {
    "name": "ipython",
    "version": 3
   },
   "file_extension": ".py",
   "mimetype": "text/x-python",
   "name": "python",
   "nbconvert_exporter": "python",
   "pygments_lexer": "ipython3",
   "version": "3.11.3"
  },
  "orig_nbformat": 4
 },
 "nbformat": 4,
 "nbformat_minor": 2
}
